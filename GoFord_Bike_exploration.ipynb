{
 "cells": [
  {
   "cell_type": "markdown",
   "metadata": {
    "id": "XnGu_0QbNitz"
   },
   "source": [
    "# (Fordgo bike data exploration)\n",
    "## by (Omnia Imam)\n",
    "\n",
    "## Preliminary Wrangling\n",
    "\n",
    "> This document explores a dataset including information about individual rides made in a bike-sharing system covering the greater San FranciscoBay area."
   ]
  },
  {
   "cell_type": "code",
   "execution_count": 1,
   "metadata": {
    "id": "Cpk2AJVXNit5"
   },
   "outputs": [],
   "source": [
    "# import all packages and set plots to be embedded inline\n",
    "import numpy as np\n",
    "import pandas as pd\n",
    "import matplotlib.pyplot as plt\n",
    "import seaborn as sb\n",
    "\n",
    "%matplotlib inline"
   ]
  },
  {
   "cell_type": "markdown",
   "metadata": {
    "id": "Jxzm-w_NNit6"
   },
   "source": [
    "> Load in your dataset and describe its properties through the questions below.\n",
    "Try and motivate your exploration goals through this section."
   ]
  },
  {
   "cell_type": "code",
   "execution_count": 2,
   "metadata": {
    "colab": {
     "base_uri": "https://localhost:8080/",
     "height": 333
    },
    "id": "ckM2lw8cNit6",
    "outputId": "538f0a9a-2df2-4edd-c039-9bf7adc2f53d"
   },
   "outputs": [
    {
     "data": {
      "text/html": [
       "<div>\n",
       "<style scoped>\n",
       "    .dataframe tbody tr th:only-of-type {\n",
       "        vertical-align: middle;\n",
       "    }\n",
       "\n",
       "    .dataframe tbody tr th {\n",
       "        vertical-align: top;\n",
       "    }\n",
       "\n",
       "    .dataframe thead th {\n",
       "        text-align: right;\n",
       "    }\n",
       "</style>\n",
       "<table border=\"1\" class=\"dataframe\">\n",
       "  <thead>\n",
       "    <tr style=\"text-align: right;\">\n",
       "      <th></th>\n",
       "      <th>duration_sec</th>\n",
       "      <th>start_time</th>\n",
       "      <th>end_time</th>\n",
       "      <th>start_station_id</th>\n",
       "      <th>start_station_name</th>\n",
       "      <th>start_station_latitude</th>\n",
       "      <th>start_station_longitude</th>\n",
       "      <th>end_station_id</th>\n",
       "      <th>end_station_name</th>\n",
       "      <th>end_station_latitude</th>\n",
       "      <th>end_station_longitude</th>\n",
       "      <th>bike_id</th>\n",
       "      <th>user_type</th>\n",
       "      <th>member_birth_year</th>\n",
       "      <th>member_gender</th>\n",
       "      <th>bike_share_for_all_trip</th>\n",
       "    </tr>\n",
       "  </thead>\n",
       "  <tbody>\n",
       "    <tr>\n",
       "      <th>0</th>\n",
       "      <td>52185</td>\n",
       "      <td>2019-02-28 17:32:10.1450</td>\n",
       "      <td>2019-03-01 08:01:55.9750</td>\n",
       "      <td>21.0</td>\n",
       "      <td>Montgomery St BART Station (Market St at 2nd St)</td>\n",
       "      <td>37.789625</td>\n",
       "      <td>-122.400811</td>\n",
       "      <td>13.0</td>\n",
       "      <td>Commercial St at Montgomery St</td>\n",
       "      <td>37.794231</td>\n",
       "      <td>-122.402923</td>\n",
       "      <td>4902</td>\n",
       "      <td>Customer</td>\n",
       "      <td>1984.0</td>\n",
       "      <td>Male</td>\n",
       "      <td>No</td>\n",
       "    </tr>\n",
       "    <tr>\n",
       "      <th>1</th>\n",
       "      <td>42521</td>\n",
       "      <td>2019-02-28 18:53:21.7890</td>\n",
       "      <td>2019-03-01 06:42:03.0560</td>\n",
       "      <td>23.0</td>\n",
       "      <td>The Embarcadero at Steuart St</td>\n",
       "      <td>37.791464</td>\n",
       "      <td>-122.391034</td>\n",
       "      <td>81.0</td>\n",
       "      <td>Berry St at 4th St</td>\n",
       "      <td>37.775880</td>\n",
       "      <td>-122.393170</td>\n",
       "      <td>2535</td>\n",
       "      <td>Customer</td>\n",
       "      <td>NaN</td>\n",
       "      <td>NaN</td>\n",
       "      <td>No</td>\n",
       "    </tr>\n",
       "    <tr>\n",
       "      <th>2</th>\n",
       "      <td>61854</td>\n",
       "      <td>2019-02-28 12:13:13.2180</td>\n",
       "      <td>2019-03-01 05:24:08.1460</td>\n",
       "      <td>86.0</td>\n",
       "      <td>Market St at Dolores St</td>\n",
       "      <td>37.769305</td>\n",
       "      <td>-122.426826</td>\n",
       "      <td>3.0</td>\n",
       "      <td>Powell St BART Station (Market St at 4th St)</td>\n",
       "      <td>37.786375</td>\n",
       "      <td>-122.404904</td>\n",
       "      <td>5905</td>\n",
       "      <td>Customer</td>\n",
       "      <td>1972.0</td>\n",
       "      <td>Male</td>\n",
       "      <td>No</td>\n",
       "    </tr>\n",
       "    <tr>\n",
       "      <th>3</th>\n",
       "      <td>36490</td>\n",
       "      <td>2019-02-28 17:54:26.0100</td>\n",
       "      <td>2019-03-01 04:02:36.8420</td>\n",
       "      <td>375.0</td>\n",
       "      <td>Grove St at Masonic Ave</td>\n",
       "      <td>37.774836</td>\n",
       "      <td>-122.446546</td>\n",
       "      <td>70.0</td>\n",
       "      <td>Central Ave at Fell St</td>\n",
       "      <td>37.773311</td>\n",
       "      <td>-122.444293</td>\n",
       "      <td>6638</td>\n",
       "      <td>Subscriber</td>\n",
       "      <td>1989.0</td>\n",
       "      <td>Other</td>\n",
       "      <td>No</td>\n",
       "    </tr>\n",
       "    <tr>\n",
       "      <th>4</th>\n",
       "      <td>1585</td>\n",
       "      <td>2019-02-28 23:54:18.5490</td>\n",
       "      <td>2019-03-01 00:20:44.0740</td>\n",
       "      <td>7.0</td>\n",
       "      <td>Frank H Ogawa Plaza</td>\n",
       "      <td>37.804562</td>\n",
       "      <td>-122.271738</td>\n",
       "      <td>222.0</td>\n",
       "      <td>10th Ave at E 15th St</td>\n",
       "      <td>37.792714</td>\n",
       "      <td>-122.248780</td>\n",
       "      <td>4898</td>\n",
       "      <td>Subscriber</td>\n",
       "      <td>1974.0</td>\n",
       "      <td>Male</td>\n",
       "      <td>Yes</td>\n",
       "    </tr>\n",
       "  </tbody>\n",
       "</table>\n",
       "</div>"
      ],
      "text/plain": [
       "   duration_sec                start_time                  end_time  \\\n",
       "0         52185  2019-02-28 17:32:10.1450  2019-03-01 08:01:55.9750   \n",
       "1         42521  2019-02-28 18:53:21.7890  2019-03-01 06:42:03.0560   \n",
       "2         61854  2019-02-28 12:13:13.2180  2019-03-01 05:24:08.1460   \n",
       "3         36490  2019-02-28 17:54:26.0100  2019-03-01 04:02:36.8420   \n",
       "4          1585  2019-02-28 23:54:18.5490  2019-03-01 00:20:44.0740   \n",
       "\n",
       "   start_station_id                                start_station_name  \\\n",
       "0              21.0  Montgomery St BART Station (Market St at 2nd St)   \n",
       "1              23.0                     The Embarcadero at Steuart St   \n",
       "2              86.0                           Market St at Dolores St   \n",
       "3             375.0                           Grove St at Masonic Ave   \n",
       "4               7.0                               Frank H Ogawa Plaza   \n",
       "\n",
       "   start_station_latitude  start_station_longitude  end_station_id  \\\n",
       "0               37.789625              -122.400811            13.0   \n",
       "1               37.791464              -122.391034            81.0   \n",
       "2               37.769305              -122.426826             3.0   \n",
       "3               37.774836              -122.446546            70.0   \n",
       "4               37.804562              -122.271738           222.0   \n",
       "\n",
       "                               end_station_name  end_station_latitude  \\\n",
       "0                Commercial St at Montgomery St             37.794231   \n",
       "1                            Berry St at 4th St             37.775880   \n",
       "2  Powell St BART Station (Market St at 4th St)             37.786375   \n",
       "3                        Central Ave at Fell St             37.773311   \n",
       "4                         10th Ave at E 15th St             37.792714   \n",
       "\n",
       "   end_station_longitude  bike_id   user_type  member_birth_year  \\\n",
       "0            -122.402923     4902    Customer             1984.0   \n",
       "1            -122.393170     2535    Customer                NaN   \n",
       "2            -122.404904     5905    Customer             1972.0   \n",
       "3            -122.444293     6638  Subscriber             1989.0   \n",
       "4            -122.248780     4898  Subscriber             1974.0   \n",
       "\n",
       "  member_gender bike_share_for_all_trip  \n",
       "0          Male                      No  \n",
       "1           NaN                      No  \n",
       "2          Male                      No  \n",
       "3         Other                      No  \n",
       "4          Male                     Yes  "
      ]
     },
     "execution_count": 2,
     "metadata": {},
     "output_type": "execute_result"
    }
   ],
   "source": [
    "df= pd.read_csv('201902-fordgobike-tripdata.csv')\n",
    "df.head()"
   ]
  },
  {
   "cell_type": "code",
   "execution_count": 3,
   "metadata": {
    "colab": {
     "base_uri": "https://localhost:8080/"
    },
    "id": "Y0tYgE94Oq1u",
    "outputId": "f76dde72-d32e-414e-8ce0-779a90f3ebf8"
   },
   "outputs": [
    {
     "name": "stdout",
     "output_type": "stream",
     "text": [
      "<class 'pandas.core.frame.DataFrame'>\n",
      "RangeIndex: 183412 entries, 0 to 183411\n",
      "Data columns (total 16 columns):\n",
      " #   Column                   Non-Null Count   Dtype  \n",
      "---  ------                   --------------   -----  \n",
      " 0   duration_sec             183412 non-null  int64  \n",
      " 1   start_time               183412 non-null  object \n",
      " 2   end_time                 183412 non-null  object \n",
      " 3   start_station_id         183215 non-null  float64\n",
      " 4   start_station_name       183215 non-null  object \n",
      " 5   start_station_latitude   183412 non-null  float64\n",
      " 6   start_station_longitude  183412 non-null  float64\n",
      " 7   end_station_id           183215 non-null  float64\n",
      " 8   end_station_name         183215 non-null  object \n",
      " 9   end_station_latitude     183412 non-null  float64\n",
      " 10  end_station_longitude    183412 non-null  float64\n",
      " 11  bike_id                  183412 non-null  int64  \n",
      " 12  user_type                183412 non-null  object \n",
      " 13  member_birth_year        175147 non-null  float64\n",
      " 14  member_gender            175147 non-null  object \n",
      " 15  bike_share_for_all_trip  183412 non-null  object \n",
      "dtypes: float64(7), int64(2), object(7)\n",
      "memory usage: 22.4+ MB\n"
     ]
    }
   ],
   "source": [
    "df.info()"
   ]
  },
  {
   "cell_type": "code",
   "execution_count": 4,
   "metadata": {
    "colab": {
     "base_uri": "https://localhost:8080/",
     "height": 304
    },
    "id": "Lo-vWGXHhaH4",
    "outputId": "80103fdf-b2f7-4887-a1fc-1e9384289b86"
   },
   "outputs": [
    {
     "data": {
      "text/html": [
       "<div>\n",
       "<style scoped>\n",
       "    .dataframe tbody tr th:only-of-type {\n",
       "        vertical-align: middle;\n",
       "    }\n",
       "\n",
       "    .dataframe tbody tr th {\n",
       "        vertical-align: top;\n",
       "    }\n",
       "\n",
       "    .dataframe thead th {\n",
       "        text-align: right;\n",
       "    }\n",
       "</style>\n",
       "<table border=\"1\" class=\"dataframe\">\n",
       "  <thead>\n",
       "    <tr style=\"text-align: right;\">\n",
       "      <th></th>\n",
       "      <th>duration_sec</th>\n",
       "      <th>start_station_id</th>\n",
       "      <th>start_station_latitude</th>\n",
       "      <th>start_station_longitude</th>\n",
       "      <th>end_station_id</th>\n",
       "      <th>end_station_latitude</th>\n",
       "      <th>end_station_longitude</th>\n",
       "      <th>bike_id</th>\n",
       "      <th>member_birth_year</th>\n",
       "    </tr>\n",
       "  </thead>\n",
       "  <tbody>\n",
       "    <tr>\n",
       "      <th>count</th>\n",
       "      <td>183412.000000</td>\n",
       "      <td>183215.000000</td>\n",
       "      <td>183412.000000</td>\n",
       "      <td>183412.000000</td>\n",
       "      <td>183215.000000</td>\n",
       "      <td>183412.000000</td>\n",
       "      <td>183412.000000</td>\n",
       "      <td>183412.000000</td>\n",
       "      <td>175147.000000</td>\n",
       "    </tr>\n",
       "    <tr>\n",
       "      <th>mean</th>\n",
       "      <td>726.078435</td>\n",
       "      <td>138.590427</td>\n",
       "      <td>37.771223</td>\n",
       "      <td>-122.352664</td>\n",
       "      <td>136.249123</td>\n",
       "      <td>37.771427</td>\n",
       "      <td>-122.352250</td>\n",
       "      <td>4472.906375</td>\n",
       "      <td>1984.806437</td>\n",
       "    </tr>\n",
       "    <tr>\n",
       "      <th>std</th>\n",
       "      <td>1794.389780</td>\n",
       "      <td>111.778864</td>\n",
       "      <td>0.099581</td>\n",
       "      <td>0.117097</td>\n",
       "      <td>111.515131</td>\n",
       "      <td>0.099490</td>\n",
       "      <td>0.116673</td>\n",
       "      <td>1664.383394</td>\n",
       "      <td>10.116689</td>\n",
       "    </tr>\n",
       "    <tr>\n",
       "      <th>min</th>\n",
       "      <td>61.000000</td>\n",
       "      <td>3.000000</td>\n",
       "      <td>37.317298</td>\n",
       "      <td>-122.453704</td>\n",
       "      <td>3.000000</td>\n",
       "      <td>37.317298</td>\n",
       "      <td>-122.453704</td>\n",
       "      <td>11.000000</td>\n",
       "      <td>1878.000000</td>\n",
       "    </tr>\n",
       "    <tr>\n",
       "      <th>25%</th>\n",
       "      <td>325.000000</td>\n",
       "      <td>47.000000</td>\n",
       "      <td>37.770083</td>\n",
       "      <td>-122.412408</td>\n",
       "      <td>44.000000</td>\n",
       "      <td>37.770407</td>\n",
       "      <td>-122.411726</td>\n",
       "      <td>3777.000000</td>\n",
       "      <td>1980.000000</td>\n",
       "    </tr>\n",
       "    <tr>\n",
       "      <th>50%</th>\n",
       "      <td>514.000000</td>\n",
       "      <td>104.000000</td>\n",
       "      <td>37.780760</td>\n",
       "      <td>-122.398285</td>\n",
       "      <td>100.000000</td>\n",
       "      <td>37.781010</td>\n",
       "      <td>-122.398279</td>\n",
       "      <td>4958.000000</td>\n",
       "      <td>1987.000000</td>\n",
       "    </tr>\n",
       "    <tr>\n",
       "      <th>75%</th>\n",
       "      <td>796.000000</td>\n",
       "      <td>239.000000</td>\n",
       "      <td>37.797280</td>\n",
       "      <td>-122.286533</td>\n",
       "      <td>235.000000</td>\n",
       "      <td>37.797320</td>\n",
       "      <td>-122.288045</td>\n",
       "      <td>5502.000000</td>\n",
       "      <td>1992.000000</td>\n",
       "    </tr>\n",
       "    <tr>\n",
       "      <th>max</th>\n",
       "      <td>85444.000000</td>\n",
       "      <td>398.000000</td>\n",
       "      <td>37.880222</td>\n",
       "      <td>-121.874119</td>\n",
       "      <td>398.000000</td>\n",
       "      <td>37.880222</td>\n",
       "      <td>-121.874119</td>\n",
       "      <td>6645.000000</td>\n",
       "      <td>2001.000000</td>\n",
       "    </tr>\n",
       "  </tbody>\n",
       "</table>\n",
       "</div>"
      ],
      "text/plain": [
       "        duration_sec  start_station_id  start_station_latitude  \\\n",
       "count  183412.000000     183215.000000           183412.000000   \n",
       "mean      726.078435        138.590427               37.771223   \n",
       "std      1794.389780        111.778864                0.099581   \n",
       "min        61.000000          3.000000               37.317298   \n",
       "25%       325.000000         47.000000               37.770083   \n",
       "50%       514.000000        104.000000               37.780760   \n",
       "75%       796.000000        239.000000               37.797280   \n",
       "max     85444.000000        398.000000               37.880222   \n",
       "\n",
       "       start_station_longitude  end_station_id  end_station_latitude  \\\n",
       "count            183412.000000   183215.000000         183412.000000   \n",
       "mean               -122.352664      136.249123             37.771427   \n",
       "std                   0.117097      111.515131              0.099490   \n",
       "min                -122.453704        3.000000             37.317298   \n",
       "25%                -122.412408       44.000000             37.770407   \n",
       "50%                -122.398285      100.000000             37.781010   \n",
       "75%                -122.286533      235.000000             37.797320   \n",
       "max                -121.874119      398.000000             37.880222   \n",
       "\n",
       "       end_station_longitude        bike_id  member_birth_year  \n",
       "count          183412.000000  183412.000000      175147.000000  \n",
       "mean             -122.352250    4472.906375        1984.806437  \n",
       "std                 0.116673    1664.383394          10.116689  \n",
       "min              -122.453704      11.000000        1878.000000  \n",
       "25%              -122.411726    3777.000000        1980.000000  \n",
       "50%              -122.398279    4958.000000        1987.000000  \n",
       "75%              -122.288045    5502.000000        1992.000000  \n",
       "max              -121.874119    6645.000000        2001.000000  "
      ]
     },
     "execution_count": 4,
     "metadata": {},
     "output_type": "execute_result"
    }
   ],
   "source": [
    "df.describe()"
   ]
  },
  {
   "cell_type": "code",
   "execution_count": 5,
   "metadata": {
    "colab": {
     "base_uri": "https://localhost:8080/"
    },
    "id": "e95BKXm7Nit9",
    "outputId": "3c239249-cf6b-4fde-e7c5-d5b643c57831"
   },
   "outputs": [
    {
     "data": {
      "text/plain": [
       "duration_sec                  0\n",
       "start_time                    0\n",
       "end_time                      0\n",
       "start_station_id            197\n",
       "start_station_name          197\n",
       "start_station_latitude        0\n",
       "start_station_longitude       0\n",
       "end_station_id              197\n",
       "end_station_name            197\n",
       "end_station_latitude          0\n",
       "end_station_longitude         0\n",
       "bike_id                       0\n",
       "user_type                     0\n",
       "member_birth_year          8265\n",
       "member_gender              8265\n",
       "bike_share_for_all_trip       0\n",
       "dtype: int64"
      ]
     },
     "execution_count": 5,
     "metadata": {},
     "output_type": "execute_result"
    }
   ],
   "source": [
    "df.isna().sum()"
   ]
  },
  {
   "cell_type": "markdown",
   "metadata": {
    "id": "Czhg5dOWNit7"
   },
   "source": [
    "### What is the structure of your dataset?\n",
    "\n",
    "> The data consists of 183412 rows and 16 columns \n",
    "\n",
    "\n",
    "### What is/are the main feature(s) of interest in your dataset?\n",
    "\n",
    "> How long does the average trip take?, and does that depend on if a user is a subscriber or customer? and how can some other variables be relevant; (such as the gender of that user, or maybe their age..! )\n",
    "\n",
    "\n",
    "### What features in the dataset do you think will help support your investigation into your feature(s) of interest?\n",
    "\n",
    "> Start & End_time, duration_sec, User_type, member_gender, member_birth_year"
   ]
  },
  {
   "cell_type": "markdown",
   "metadata": {
    "id": "gndkVYT-fwiY"
   },
   "source": [
    "### Dropping unneeded columns and remaining null values"
   ]
  },
  {
   "cell_type": "code",
   "execution_count": 6,
   "metadata": {
    "colab": {
     "base_uri": "https://localhost:8080/"
    },
    "id": "zwZGpRI2e_V0",
    "outputId": "7c3b99e8-d3df-4d23-eb7b-99b5dbc661ce"
   },
   "outputs": [
    {
     "name": "stdout",
     "output_type": "stream",
     "text": [
      "<class 'pandas.core.frame.DataFrame'>\n",
      "Int64Index: 175147 entries, 0 to 183411\n",
      "Data columns (total 8 columns):\n",
      " #   Column                   Non-Null Count   Dtype  \n",
      "---  ------                   --------------   -----  \n",
      " 0   duration_sec             175147 non-null  int64  \n",
      " 1   start_time               175147 non-null  object \n",
      " 2   end_time                 175147 non-null  object \n",
      " 3   bike_id                  175147 non-null  int64  \n",
      " 4   user_type                175147 non-null  object \n",
      " 5   member_birth_year        175147 non-null  float64\n",
      " 6   member_gender            175147 non-null  object \n",
      " 7   bike_share_for_all_trip  175147 non-null  object \n",
      "dtypes: float64(1), int64(2), object(5)\n",
      "memory usage: 12.0+ MB\n",
      "None \n",
      "\n",
      "\n",
      " duration_sec                 4432\n",
      "start_time                 175136\n",
      "end_time                   175134\n",
      "bike_id                      4635\n",
      "user_type                       2\n",
      "member_birth_year              75\n",
      "member_gender                   3\n",
      "bike_share_for_all_trip         2\n",
      "dtype: int64 \n",
      "\n",
      "\n",
      " 0\n"
     ]
    }
   ],
   "source": [
    "df.drop(['start_station_id','start_station_name','end_station_id','end_station_name','start_station_latitude', 'start_station_longitude', 'end_station_latitude','end_station_longitude'], axis=1, inplace=True)\n",
    "df.dropna(inplace=True)\n",
    "print(df.info(),'\\n\\n\\n',df.nunique(),'\\n\\n\\n', df.duplicated().sum())"
   ]
  },
  {
   "cell_type": "markdown",
   "metadata": {
    "id": "YQcb0UkEczLS"
   },
   "source": [
    "### Adding some desirable attributes/features that can help support our invistigation..\n"
   ]
  },
  {
   "cell_type": "markdown",
   "metadata": {
    "id": "1SEZDkWWgEI0"
   },
   "source": [
    "* **Converting end & start times to date format, and creating an additional column to calculate time duration..**"
   ]
  },
  {
   "cell_type": "code",
   "execution_count": 7,
   "metadata": {
    "colab": {
     "base_uri": "https://localhost:8080/",
     "height": 0
    },
    "id": "WnjLlM7MeRb3",
    "outputId": "fcc4e791-8126-4e2e-c589-54b8f7d7af03"
   },
   "outputs": [
    {
     "data": {
      "text/html": [
       "<div>\n",
       "<style scoped>\n",
       "    .dataframe tbody tr th:only-of-type {\n",
       "        vertical-align: middle;\n",
       "    }\n",
       "\n",
       "    .dataframe tbody tr th {\n",
       "        vertical-align: top;\n",
       "    }\n",
       "\n",
       "    .dataframe thead th {\n",
       "        text-align: right;\n",
       "    }\n",
       "</style>\n",
       "<table border=\"1\" class=\"dataframe\">\n",
       "  <thead>\n",
       "    <tr style=\"text-align: right;\">\n",
       "      <th></th>\n",
       "      <th>duration_sec</th>\n",
       "      <th>start_time</th>\n",
       "      <th>end_time</th>\n",
       "      <th>bike_id</th>\n",
       "      <th>user_type</th>\n",
       "      <th>member_birth_year</th>\n",
       "      <th>member_gender</th>\n",
       "      <th>bike_share_for_all_trip</th>\n",
       "      <th>diff</th>\n",
       "    </tr>\n",
       "  </thead>\n",
       "  <tbody>\n",
       "    <tr>\n",
       "      <th>0</th>\n",
       "      <td>52185</td>\n",
       "      <td>2019-02-28 17:32:10.145</td>\n",
       "      <td>2019-03-01 08:01:55.975</td>\n",
       "      <td>4902</td>\n",
       "      <td>Customer</td>\n",
       "      <td>1984.0</td>\n",
       "      <td>Male</td>\n",
       "      <td>No</td>\n",
       "      <td>0 days 14:29:45.830000</td>\n",
       "    </tr>\n",
       "  </tbody>\n",
       "</table>\n",
       "</div>"
      ],
      "text/plain": [
       "   duration_sec              start_time                end_time  bike_id  \\\n",
       "0         52185 2019-02-28 17:32:10.145 2019-03-01 08:01:55.975     4902   \n",
       "\n",
       "  user_type  member_birth_year member_gender bike_share_for_all_trip  \\\n",
       "0  Customer             1984.0          Male                      No   \n",
       "\n",
       "                    diff  \n",
       "0 0 days 14:29:45.830000  "
      ]
     },
     "execution_count": 7,
     "metadata": {},
     "output_type": "execute_result"
    }
   ],
   "source": [
    "# making a copy of the original dataframe to try applying some changes\n",
    "df1= df.copy()\n",
    "df1['end_time']= pd.to_datetime(df1['end_time'])\n",
    "df1['start_time']= pd.to_datetime(df1['start_time'])\n",
    "\n",
    "df1['diff']= df1['end_time'] - df1['start_time']\n",
    "df1.head(1)"
   ]
  },
  {
   "cell_type": "markdown",
   "metadata": {
    "id": "_k12fKW0dzc0"
   },
   "source": [
    "* **Adding an additional column calculating members' ages..**"
   ]
  },
  {
   "cell_type": "code",
   "execution_count": 8,
   "metadata": {
    "colab": {
     "base_uri": "https://localhost:8080/",
     "height": 0
    },
    "id": "SY4ZVLSZeRXz",
    "outputId": "b021e8eb-0c69-482d-e761-43e7ce7c3558"
   },
   "outputs": [
    {
     "data": {
      "text/html": [
       "<div>\n",
       "<style scoped>\n",
       "    .dataframe tbody tr th:only-of-type {\n",
       "        vertical-align: middle;\n",
       "    }\n",
       "\n",
       "    .dataframe tbody tr th {\n",
       "        vertical-align: top;\n",
       "    }\n",
       "\n",
       "    .dataframe thead th {\n",
       "        text-align: right;\n",
       "    }\n",
       "</style>\n",
       "<table border=\"1\" class=\"dataframe\">\n",
       "  <thead>\n",
       "    <tr style=\"text-align: right;\">\n",
       "      <th></th>\n",
       "      <th>duration_sec</th>\n",
       "      <th>start_time</th>\n",
       "      <th>end_time</th>\n",
       "      <th>bike_id</th>\n",
       "      <th>user_type</th>\n",
       "      <th>member_gender</th>\n",
       "      <th>bike_share_for_all_trip</th>\n",
       "      <th>diff</th>\n",
       "      <th>member_age</th>\n",
       "    </tr>\n",
       "  </thead>\n",
       "  <tbody>\n",
       "    <tr>\n",
       "      <th>0</th>\n",
       "      <td>52185</td>\n",
       "      <td>2019-02-28 17:32:10.145</td>\n",
       "      <td>2019-03-01 08:01:55.975</td>\n",
       "      <td>4902</td>\n",
       "      <td>Customer</td>\n",
       "      <td>Male</td>\n",
       "      <td>No</td>\n",
       "      <td>0 days 14:29:45.830000</td>\n",
       "      <td>35</td>\n",
       "    </tr>\n",
       "  </tbody>\n",
       "</table>\n",
       "</div>"
      ],
      "text/plain": [
       "   duration_sec              start_time                end_time  bike_id  \\\n",
       "0         52185 2019-02-28 17:32:10.145 2019-03-01 08:01:55.975     4902   \n",
       "\n",
       "  user_type member_gender bike_share_for_all_trip                   diff  \\\n",
       "0  Customer          Male                      No 0 days 14:29:45.830000   \n",
       "\n",
       "   member_age  \n",
       "0          35  "
      ]
     },
     "execution_count": 8,
     "metadata": {},
     "output_type": "execute_result"
    }
   ],
   "source": [
    "df1['member_age'] = 2019-df1['member_birth_year'].astype('int')\n",
    "df1.drop('member_birth_year', axis=1, inplace=True)\n",
    "df1.head(1)"
   ]
  },
  {
   "cell_type": "markdown",
   "metadata": {
    "id": "C0S9dLFkNit8"
   },
   "source": [
    "## Univariate Exploration\n"
   ]
  },
  {
   "cell_type": "markdown",
   "metadata": {
    "id": "R77Eyql9HmHK"
   },
   "source": [
    "####1. **Plotting the distribution of durations of rides in minutes**\n"
   ]
  },
  {
   "cell_type": "code",
   "execution_count": 9,
   "metadata": {
    "colab": {
     "base_uri": "https://localhost:8080/"
    },
    "id": "TbTRMWi3HkqO",
    "outputId": "38b20379-e84e-4eaf-ab79-a339f2d5fa50"
   },
   "outputs": [
    {
     "data": {
      "text/plain": [
       "count                       175147\n",
       "mean     0 days 00:11:44.710840728\n",
       "std      0 days 00:27:21.607874630\n",
       "min         0 days 00:01:01.081000\n",
       "25%         0 days 00:05:23.450500\n",
       "50%         0 days 00:08:30.964000\n",
       "75%         0 days 00:13:09.485500\n",
       "max         0 days 23:29:08.051000\n",
       "Name: diff, dtype: object"
      ]
     },
     "execution_count": 9,
     "metadata": {},
     "output_type": "execute_result"
    }
   ],
   "source": [
    "df1['diff'].describe()"
   ]
  },
  {
   "cell_type": "markdown",
   "metadata": {
    "id": "Y51faU4bwU3o"
   },
   "source": [
    "* **Adding an additional column calculating duration in minutes..**"
   ]
  },
  {
   "cell_type": "code",
   "execution_count": 10,
   "metadata": {
    "colab": {
     "base_uri": "https://localhost:8080/"
    },
    "id": "ii1bIvfSHkoX",
    "outputId": "c39fcb08-5b9f-45d1-84d4-06290e8d2d4e"
   },
   "outputs": [
    {
     "data": {
      "text/plain": [
       "count    175147.000000\n",
       "mean         11.244971\n",
       "std          27.361348\n",
       "min           1.000000\n",
       "25%           5.000000\n",
       "50%           8.000000\n",
       "75%          13.000000\n",
       "max        1409.000000\n",
       "Name: mins_diff, dtype: float64"
      ]
     },
     "execution_count": 10,
     "metadata": {},
     "output_type": "execute_result"
    }
   ],
   "source": [
    "df1['mins_diff']=df1['diff'].astype('timedelta64[m]')\n",
    "df1['mins_diff'].describe()"
   ]
  },
  {
   "cell_type": "code",
   "execution_count": 11,
   "metadata": {
    "colab": {
     "base_uri": "https://localhost:8080/",
     "height": 295
    },
    "id": "xzNUBYMvHkk3",
    "outputId": "b63d316c-5abf-43f6-b27b-e198e4d62486"
   },
   "outputs": [
    {
     "data": {
      "image/png": "[encoded data removed]",
      "text/plain": [
       "<Figure size 432x288 with 1 Axes>"
      ]
     },
     "metadata": {
      "needs_background": "light"
     },
     "output_type": "display_data"
    }
   ],
   "source": [
    "bins = np.arange(0,df1.mins_diff.max()+5,5)\n",
    "plt.hist(data=df1, x= 'mins_diff', bins=bins);\n",
    "plt.title('Distribution of durations of rides in minutes')\n",
    "plt.xlabel('Duration in mins')\n",
    "plt.ylabel('Counts')\n",
    "plt.xlim(0,100);"
   ]
  },
  {
   "cell_type": "markdown",
   "metadata": {
    "id": "cb7IEHCbaRKn"
   },
   "source": [
    "\n",
    "\n",
    "> We can notice that the majority of rides do not exceed 20 mins; do not even reach them, with average time duration of 11.49 minutes.. \n",
    "\n",
    ">our plot is right skewed which indicates that with the increasement of durations, number of riders tends to decrease..\n",
    "\n"
   ]
  },
  {
   "cell_type": "markdown",
   "metadata": {
    "id": "GtC_CG8AVBNt"
   },
   "source": [
    "#### 2. **We may also be interested in knowing which days of the week are most likely to have more reservations recorded on**\n"
   ]
  },
  {
   "cell_type": "code",
   "execution_count": 12,
   "metadata": {
    "colab": {
     "base_uri": "https://localhost:8080/",
     "height": 114
    },
    "id": "9vTJ1WVWU_YT",
    "outputId": "f3db81dc-975c-402c-cca6-0a216ece153e"
   },
   "outputs": [
    {
     "data": {
      "text/html": [
       "<div>\n",
       "<style scoped>\n",
       "    .dataframe tbody tr th:only-of-type {\n",
       "        vertical-align: middle;\n",
       "    }\n",
       "\n",
       "    .dataframe tbody tr th {\n",
       "        vertical-align: top;\n",
       "    }\n",
       "\n",
       "    .dataframe thead th {\n",
       "        text-align: right;\n",
       "    }\n",
       "</style>\n",
       "<table border=\"1\" class=\"dataframe\">\n",
       "  <thead>\n",
       "    <tr style=\"text-align: right;\">\n",
       "      <th></th>\n",
       "      <th>duration_sec</th>\n",
       "      <th>start_time</th>\n",
       "      <th>end_time</th>\n",
       "      <th>bike_id</th>\n",
       "      <th>user_type</th>\n",
       "      <th>member_gender</th>\n",
       "      <th>bike_share_for_all_trip</th>\n",
       "      <th>diff</th>\n",
       "      <th>member_age</th>\n",
       "      <th>mins_diff</th>\n",
       "      <th>day</th>\n",
       "    </tr>\n",
       "  </thead>\n",
       "  <tbody>\n",
       "    <tr>\n",
       "      <th>0</th>\n",
       "      <td>52185</td>\n",
       "      <td>2019-02-28 17:32:10.145</td>\n",
       "      <td>2019-03-01 08:01:55.975</td>\n",
       "      <td>4902</td>\n",
       "      <td>Customer</td>\n",
       "      <td>Male</td>\n",
       "      <td>No</td>\n",
       "      <td>0 days 14:29:45.830000</td>\n",
       "      <td>35</td>\n",
       "      <td>869.0</td>\n",
       "      <td>Thursday</td>\n",
       "    </tr>\n",
       "  </tbody>\n",
       "</table>\n",
       "</div>"
      ],
      "text/plain": [
       "   duration_sec              start_time                end_time  bike_id  \\\n",
       "0         52185 2019-02-28 17:32:10.145 2019-03-01 08:01:55.975     4902   \n",
       "\n",
       "  user_type member_gender bike_share_for_all_trip                   diff  \\\n",
       "0  Customer          Male                      No 0 days 14:29:45.830000   \n",
       "\n",
       "   member_age  mins_diff       day  \n",
       "0          35      869.0  Thursday  "
      ]
     },
     "execution_count": 12,
     "metadata": {},
     "output_type": "execute_result"
    }
   ],
   "source": [
    "df1['day']=df1['start_time'].dt.day_name()\n",
    "df1.head(1)"
   ]
  },
  {
   "cell_type": "code",
   "execution_count": 13,
   "metadata": {
    "colab": {
     "base_uri": "https://localhost:8080/",
     "height": 312
    },
    "id": "0cesEjwxWMVE",
    "outputId": "213967c4-794c-49d7-d8d4-9ecbf323ffc6"
   },
   "outputs": [
    {
     "data": {
      "image/png": "[encoded data removed]",
      "text/plain": [
       "<Figure size 432x288 with 1 Axes>"
      ]
     },
     "metadata": {
      "needs_background": "light"
     },
     "output_type": "display_data"
    }
   ],
   "source": [
    "base_color= sb.color_palette()[0]\n",
    "order= ['Saturday', 'Sunday', 'Monday','Tuesday','Wednesday','Thursday','Friday']\n",
    "cat= pd.api.types.CategoricalDtype(ordered=True, categories=order)\n",
    "df1['day']=df1['day'].astype(cat);\n",
    "\n",
    "sb.countplot(data = df1, x = 'day',color = base_color);\n",
    "plt.title('Count of rides per week day', fontsize = 15)\n",
    "plt.xlabel('Day')\n",
    "plt.ylabel('Count of rides');\n",
    "plt.xticks(rotation=15);"
   ]
  },
  {
   "cell_type": "markdown",
   "metadata": {
    "id": "nIry2adaZEaN"
   },
   "source": [
    "> We can observe that the **majority** of rides are on reserved on (**Thursday** and **Tuesday**, respectively) , then on Wednesday, Friday and Monday, While having Saturday and Sunday with least frequencies of reservations.."
   ]
  },
  {
   "cell_type": "markdown",
   "metadata": {
    "id": "Nb3qIxdmiBOW"
   },
   "source": [
    "####3. **Plotting the distribution of members' type**\n"
   ]
  },
  {
   "cell_type": "code",
   "execution_count": 14,
   "metadata": {
    "colab": {
     "base_uri": "https://localhost:8080/",
     "height": 0
    },
    "id": "KB12_bkch75H",
    "outputId": "b2476c97-e2d1-41cb-e9b0-774748db819a"
   },
   "outputs": [
    {
     "data": {
      "image/png": "[encoded data removed]",
      "text/plain": [
       "<Figure size 432x288 with 1 Axes>"
      ]
     },
     "metadata": {},
     "output_type": "display_data"
    }
   ],
   "source": [
    "type_order= df1['user_type'].value_counts() \n",
    "plt.pie(type_order, labels = type_order.index, autopct= '%0.2f%%' , startangle = 90, counterclock = False);\n",
    "plt.title(\"Users' type Count\")\n",
    "plt.axis('square');"
   ]
  },
  {
   "cell_type": "markdown",
   "metadata": {
    "id": "sj7ZvKGUtlNX"
   },
   "source": [
    "> We can see that generally, the higher proportion of bike-riders are subscribers.."
   ]
  },
  {
   "cell_type": "markdown",
   "metadata": {
    "id": "DWEh4xVNyA3H"
   },
   "source": [
    "####4. **Plotting the distribution of members' gender**\n",
    "\n",
    "\n"
   ]
  },
  {
   "cell_type": "code",
   "execution_count": 15,
   "metadata": {
    "colab": {
     "base_uri": "https://localhost:8080/",
     "height": 295
    },
    "id": "LwJK2taiNit9",
    "outputId": "7acc57bc-d0da-441e-efa3-1d0eeb474261"
   },
   "outputs": [
    {
     "data": {
      "image/png": "[encoded data removed]",
      "text/plain": [
       "<Figure size 432x288 with 1 Axes>"
      ]
     },
     "metadata": {
      "needs_background": "light"
     },
     "output_type": "display_data"
    }
   ],
   "source": [
    "gender_order= df1['member_gender'].value_counts().index \n",
    "base_color=sb.color_palette()[0]\n",
    "sb.countplot(data = df1, x = 'member_gender',color=base_color, order= gender_order)\n",
    "plt.title(\"Gender Count\")\n",
    "plt.xlabel('Gender')\n",
    "plt.ylabel('Counts');"
   ]
  },
  {
   "cell_type": "markdown",
   "metadata": {
    "id": "JnGMfEepfgwj"
   },
   "source": [
    ">We can clearly see that male bike-riders are much more than female and others.."
   ]
  },
  {
   "cell_type": "markdown",
   "metadata": {
    "id": "YpxPCESYwrUg"
   },
   "source": [
    "####5. **Plotting the distribution of members' ages**\n"
   ]
  },
  {
   "cell_type": "code",
   "execution_count": 16,
   "metadata": {
    "colab": {
     "base_uri": "https://localhost:8080/",
     "height": 0
    },
    "id": "QUuvLss2h71F",
    "outputId": "1de9f06a-4e0d-4dbf-fa1a-8131e7c53ac2"
   },
   "outputs": [
    {
     "data": {
      "image/png": "[encoded data removed]",
      "text/plain": [
       "<Figure size 432x288 with 1 Axes>"
      ]
     },
     "metadata": {
      "needs_background": "light"
     },
     "output_type": "display_data"
    }
   ],
   "source": [
    "bin_edges = np.arange(0, df1['member_age'].max()+10, 10)\n",
    "plt.hist(data=df1, x='member_age', bins = bin_edges, rwidth = 0.7);\n",
    "plt.title(\"distribution of members' ages\")\n",
    "plt.xlabel('Ages')\n",
    "plt.ylabel('Counts');"
   ]
  },
  {
   "cell_type": "markdown",
   "metadata": {
    "id": "FCHlm1mBDHtm"
   },
   "source": [
    "> There seem to be some age values that are far from the realistic range, **let's check for that..**"
   ]
  },
  {
   "cell_type": "code",
   "execution_count": 17,
   "metadata": {
    "colab": {
     "base_uri": "https://localhost:8080/"
    },
    "id": "j-sCcQ2Wh7wb",
    "outputId": "ebce06e6-d017-46c4-b552-b127db315b1b"
   },
   "outputs": [
    {
     "data": {
      "text/plain": [
       "count    175147.000000\n",
       "mean         34.193563\n",
       "std          10.116689\n",
       "min          18.000000\n",
       "25%          27.000000\n",
       "50%          32.000000\n",
       "75%          39.000000\n",
       "max         141.000000\n",
       "Name: member_age, dtype: float64"
      ]
     },
     "execution_count": 17,
     "metadata": {},
     "output_type": "execute_result"
    }
   ],
   "source": [
    "df1['member_age'].describe()"
   ]
  },
  {
   "cell_type": "markdown",
   "metadata": {
    "id": "WYu8chqkDw2e"
   },
   "source": [
    "> Yes, there are indeed some ages above the realistic range of human beings ages, so we will have to **drop these rows..**"
   ]
  },
  {
   "cell_type": "code",
   "execution_count": 18,
   "metadata": {
    "colab": {
     "base_uri": "https://localhost:8080/"
    },
    "id": "_DmScBI-Dwog",
    "outputId": "ce972284-4572-447e-88ab-3068d35c2ab9"
   },
   "outputs": [
    {
     "data": {
      "text/plain": [
       "count    175075.000000\n",
       "mean         34.158778\n",
       "std           9.972079\n",
       "min          18.000000\n",
       "25%          27.000000\n",
       "50%          32.000000\n",
       "75%          39.000000\n",
       "max          99.000000\n",
       "Name: member_age, dtype: float64"
      ]
     },
     "execution_count": 18,
     "metadata": {},
     "output_type": "execute_result"
    }
   ],
   "source": [
    "df1.drop(df1[df1['member_age'] >= 100].index, inplace = True)\n",
    "df1['member_age'].describe() "
   ]
  },
  {
   "cell_type": "code",
   "execution_count": 19,
   "metadata": {
    "colab": {
     "base_uri": "https://localhost:8080/",
     "height": 0
    },
    "id": "8-PMx472Dwhx",
    "outputId": "102d3e55-b2e7-47f3-efde-d5efce70e65e"
   },
   "outputs": [
    {
     "data": {
      "image/png": "[encoded data removed]",
      "text/plain": [
       "<Figure size 432x288 with 1 Axes>"
      ]
     },
     "metadata": {
      "needs_background": "light"
     },
     "output_type": "display_data"
    }
   ],
   "source": [
    "# Trying to plot the 'member_age' distribution once again with gaps between individual bars\n",
    "bin_edges = np.arange(0, df1['member_age'].max()+5, 5)\n",
    "plt.hist(data=df1, x='member_age', bins = bin_edges, rwidth = 0.7);\n",
    "plt.title(\"distribution of members' ages\")\n",
    "plt.xlabel('Ages')\n",
    "plt.ylabel('Counts');"
   ]
  },
  {
   "cell_type": "code",
   "execution_count": 20,
   "metadata": {
    "colab": {
     "base_uri": "https://localhost:8080/",
     "height": 0
    },
    "id": "Ilt-IQ4ZOgRN",
    "outputId": "32160fb5-43c4-4ccc-ccab-3ff823624b34"
   },
   "outputs": [
    {
     "data": {
      "image/png": "[encoded data removed]",
      "text/plain": [
       "<Figure size 432x288 with 1 Axes>"
      ]
     },
     "metadata": {
      "needs_background": "light"
     },
     "output_type": "display_data"
    }
   ],
   "source": [
    "# Trying to plot the 'member_age' distribution once again with bin edges in between the observation values\n",
    "bin_edges = np.arange(17.5, 99.5+10, 10)\n",
    "plt.hist(data=df1, x='member_age', bins = bin_edges);\n",
    "plt.title(\"distribution of members' ages\")\n",
    "plt.xlabel('Ages')\n",
    "plt.ylabel('Counts');"
   ]
  },
  {
   "cell_type": "markdown",
   "metadata": {
    "id": "ZzTKiy3pLPNH"
   },
   "source": [
    ">Most of the distribution fall within the range of 20-40 years old members, and we can also notice that our graph is considered right skewed; meaning that number of riders decreases as their ages increase.."
   ]
  },
  {
   "cell_type": "markdown",
   "metadata": {
    "id": "viWltjkvNit9"
   },
   "source": [
    "### Discuss the distribution(s) of your variable(s) of interest. Were there any unusual points? Did you need to perform any transformations?\n",
    "\n",
    "> Yes, there was some wrangling/cleaning required for the data. \n",
    "\n",
    "* There were some columns with missing values that were already not needed in the analysis, so I dropped them, and I also dropped the remaining null-carrying rows. \n",
    "\n",
    "* There were some ages that were more than the realistic range of ages.\n",
    "\n",
    "* There were some inappropriate datatypes such as time and date. \n",
    "\n",
    "* There were some new variables added from such as ,'min_diff', 'day' and 'member age' so that they can be used in the analysis.\n",
    "\n",
    "\n",
    "\n",
    "### Of the features you investigated, were there any unusual distributions? Did you perform any operations on the data to tidy, adjust, or change the form of the data? If so, why did you do this?\n",
    "\n",
    "\n",
    "* Some birth years were unrealistic, such as that of (1879), where member's age then was 140! I dropped such rows. \n",
    "\n",
    "* Start & End times also had inappropriate data types, so I changed that to datetime format. \n",
    "\n",
    "* I also removed rows with missing values in 'member_gender' and 'member_age' columns as they are crucial in the analysis."
   ]
  },
  {
   "cell_type": "markdown",
   "metadata": {
    "id": "Exj790HyNit-"
   },
   "source": [
    "## Bivariate Exploration\n"
   ]
  },
  {
   "cell_type": "markdown",
   "metadata": {
    "id": "Hg14MqY6xU83"
   },
   "source": [
    "#### 1. **First of all, let's have a look at the relationship between types of users and time they spend riding bikes**\n"
   ]
  },
  {
   "cell_type": "markdown",
   "metadata": {
    "id": "jN2k84_c5ChE"
   },
   "source": [
    "* **I will use bar and point plots here as I need the interpretaion of the mean value of duration minutes against the type of user more..** "
   ]
  },
  {
   "cell_type": "code",
   "execution_count": 21,
   "metadata": {
    "colab": {
     "base_uri": "https://localhost:8080/",
     "height": 280
    },
    "id": "uAam58NA23hP",
    "outputId": "4d2bf4c3-ecd7-4747-e2ec-733a2c86409a"
   },
   "outputs": [
    {
     "data": {
      "image/png": "[encoded data removed]",
      "text/plain": [
       "<Figure size 432x288 with 1 Axes>"
      ]
     },
     "metadata": {
      "needs_background": "light"
     },
     "output_type": "display_data"
    }
   ],
   "source": [
    "colors= sb.color_palette()[0]\n",
    "sb.barplot(data=df1, x='user_type', y='mins_diff', color= colors);"
   ]
  },
  {
   "cell_type": "markdown",
   "metadata": {
    "id": "kZhzZvBU_boT"
   },
   "source": [
    "* Use point plot as the minimum time duration is 1 minute; we don't start from 0.."
   ]
  },
  {
   "cell_type": "code",
   "execution_count": 22,
   "metadata": {
    "colab": {
     "base_uri": "https://localhost:8080/",
     "height": 280
    },
    "id": "oBo3st5C-H0H",
    "outputId": "e1df9d0c-2211-4c59-f1a0-954dbd09c986"
   },
   "outputs": [
    {
     "data": {
      "image/png": "[encoded data removed]",
      "text/plain": [
       "<Figure size 432x288 with 1 Axes>"
      ]
     },
     "metadata": {
      "needs_background": "light"
     },
     "output_type": "display_data"
    }
   ],
   "source": [
    "sb.pointplot(data=df1, x='user_type', y='mins_diff', color=base_color, linestyles=\"\");"
   ]
  },
  {
   "cell_type": "markdown",
   "metadata": {
    "id": "2Ow1XNyv5AVW"
   },
   "source": [
    "> We can clearly observe that on average, customers spend more time riding bikes than subscribers"
   ]
  },
  {
   "cell_type": "markdown",
   "metadata": {
    "id": "PnZ0eH-ZAeQt"
   },
   "source": [
    "#### 2. **Let's now have a look at the relationship between types of users and days of week they mostly reserve rides on**\n",
    "\n",
    "\n"
   ]
  },
  {
   "cell_type": "code",
   "execution_count": 23,
   "metadata": {
    "colab": {
     "base_uri": "https://localhost:8080/",
     "height": 294
    },
    "id": "tXiWovt9BJG4",
    "outputId": "5ae44af3-7954-4ce9-d37b-ba362c48c974"
   },
   "outputs": [
    {
     "data": {
      "image/png": "[encoded data removed]",
      "text/plain": [
       "<Figure size 432x288 with 1 Axes>"
      ]
     },
     "metadata": {
      "needs_background": "light"
     },
     "output_type": "display_data"
    }
   ],
   "source": [
    "# since we already have our 'day' column converted into ordered categorical type, we are going to plot immediately\n",
    "sb.countplot(data = df1, x = 'day', hue = 'user_type');\n",
    "plt.xticks(rotation=15);"
   ]
  },
  {
   "cell_type": "markdown",
   "metadata": {
    "id": "3gO0DAMAAxFl"
   },
   "source": [
    "* Using Heat map"
   ]
  },
  {
   "cell_type": "code",
   "execution_count": 24,
   "metadata": {
    "colab": {
     "base_uri": "https://localhost:8080/",
     "height": 284
    },
    "id": "ALn_Rm_qAwkh",
    "outputId": "9957edd3-2563-42cc-a654-c030bb1ec895"
   },
   "outputs": [
    {
     "data": {
      "text/html": [
       "<div>\n",
       "<style scoped>\n",
       "    .dataframe tbody tr th:only-of-type {\n",
       "        vertical-align: middle;\n",
       "    }\n",
       "\n",
       "    .dataframe tbody tr th {\n",
       "        vertical-align: top;\n",
       "    }\n",
       "\n",
       "    .dataframe thead th {\n",
       "        text-align: right;\n",
       "    }\n",
       "</style>\n",
       "<table border=\"1\" class=\"dataframe\">\n",
       "  <thead>\n",
       "    <tr style=\"text-align: right;\">\n",
       "      <th>user_type</th>\n",
       "      <th>Customer</th>\n",
       "      <th>Subscriber</th>\n",
       "    </tr>\n",
       "    <tr>\n",
       "      <th>day</th>\n",
       "      <th></th>\n",
       "      <th></th>\n",
       "    </tr>\n",
       "  </thead>\n",
       "  <tbody>\n",
       "    <tr>\n",
       "      <th>Saturday</th>\n",
       "      <td>2183</td>\n",
       "      <td>12256</td>\n",
       "    </tr>\n",
       "    <tr>\n",
       "      <th>Sunday</th>\n",
       "      <td>2304</td>\n",
       "      <td>12220</td>\n",
       "    </tr>\n",
       "    <tr>\n",
       "      <th>Monday</th>\n",
       "      <td>2323</td>\n",
       "      <td>23352</td>\n",
       "    </tr>\n",
       "    <tr>\n",
       "      <th>Tuesday</th>\n",
       "      <td>2281</td>\n",
       "      <td>28320</td>\n",
       "    </tr>\n",
       "    <tr>\n",
       "      <th>Wednesday</th>\n",
       "      <td>2117</td>\n",
       "      <td>26328</td>\n",
       "    </tr>\n",
       "    <tr>\n",
       "      <th>Thursday</th>\n",
       "      <td>2875</td>\n",
       "      <td>30851</td>\n",
       "    </tr>\n",
       "    <tr>\n",
       "      <th>Friday</th>\n",
       "      <td>2543</td>\n",
       "      <td>25122</td>\n",
       "    </tr>\n",
       "  </tbody>\n",
       "</table>\n",
       "</div>"
      ],
      "text/plain": [
       "user_type  Customer  Subscriber\n",
       "day                            \n",
       "Saturday       2183       12256\n",
       "Sunday         2304       12220\n",
       "Monday         2323       23352\n",
       "Tuesday        2281       28320\n",
       "Wednesday      2117       26328\n",
       "Thursday       2875       30851\n",
       "Friday         2543       25122"
      ]
     },
     "execution_count": 24,
     "metadata": {},
     "output_type": "execute_result"
    }
   ],
   "source": [
    "counts = df1.groupby(['day', 'user_type']).size()\n",
    "counts = counts.reset_index(name='count')\n",
    "counts = counts.pivot(index = 'day', columns = 'user_type', values = 'count')\n",
    "counts"
   ]
  },
  {
   "cell_type": "code",
   "execution_count": 25,
   "metadata": {
    "colab": {
     "base_uri": "https://localhost:8080/",
     "height": 280
    },
    "id": "0dKdu9OJB7GP",
    "outputId": "aebf17f1-0a89-48e5-a4e8-1e3c37f269c1"
   },
   "outputs": [
    {
     "data": {
      "image/png": "[encoded data removed]",
      "text/plain": [
       "<Figure size 432x288 with 2 Axes>"
      ]
     },
     "metadata": {
      "needs_background": "light"
     },
     "output_type": "display_data"
    }
   ],
   "source": [
    "sb.heatmap(counts, annot = True, fmt = 'd');"
   ]
  },
  {
   "cell_type": "markdown",
   "metadata": {
    "id": "f2BzrxynCTRQ"
   },
   "source": [
    "> We can still obviously notice-from both plots that subscribers are much more than customers, and that \"Thursday\" is still the most frequent day of reserving rides for both types, followed by \"Friday\" for customers, and \"Tuesday\" for subscribers.."
   ]
  },
  {
   "cell_type": "markdown",
   "metadata": {
    "id": "EV2JrR6HZCCo"
   },
   "source": [
    "#### 3. **Now let's see the relationship between week days and trip duration**\n",
    "\n",
    "\n"
   ]
  },
  {
   "cell_type": "code",
   "execution_count": 26,
   "metadata": {
    "colab": {
     "base_uri": "https://localhost:8080/",
     "height": 284
    },
    "id": "k5xQ6YMiWvTN",
    "outputId": "886d52e4-ca11-4444-e189-14e5dafc9a12"
   },
   "outputs": [
    {
     "data": {
      "text/html": [
       "<div>\n",
       "<style scoped>\n",
       "    .dataframe tbody tr th:only-of-type {\n",
       "        vertical-align: middle;\n",
       "    }\n",
       "\n",
       "    .dataframe tbody tr th {\n",
       "        vertical-align: top;\n",
       "    }\n",
       "\n",
       "    .dataframe thead th {\n",
       "        text-align: right;\n",
       "    }\n",
       "</style>\n",
       "<table border=\"1\" class=\"dataframe\">\n",
       "  <thead>\n",
       "    <tr style=\"text-align: right;\">\n",
       "      <th></th>\n",
       "      <th>mins_diff</th>\n",
       "    </tr>\n",
       "    <tr>\n",
       "      <th>day</th>\n",
       "      <th></th>\n",
       "    </tr>\n",
       "  </thead>\n",
       "  <tbody>\n",
       "    <tr>\n",
       "      <th>Saturday</th>\n",
       "      <td>13.687790</td>\n",
       "    </tr>\n",
       "    <tr>\n",
       "      <th>Sunday</th>\n",
       "      <td>13.826838</td>\n",
       "    </tr>\n",
       "    <tr>\n",
       "      <th>Monday</th>\n",
       "      <td>11.127089</td>\n",
       "    </tr>\n",
       "    <tr>\n",
       "      <th>Tuesday</th>\n",
       "      <td>10.389693</td>\n",
       "    </tr>\n",
       "    <tr>\n",
       "      <th>Wednesday</th>\n",
       "      <td>10.590824</td>\n",
       "    </tr>\n",
       "    <tr>\n",
       "      <th>Thursday</th>\n",
       "      <td>10.816225</td>\n",
       "    </tr>\n",
       "    <tr>\n",
       "      <th>Friday</th>\n",
       "      <td>10.867305</td>\n",
       "    </tr>\n",
       "  </tbody>\n",
       "</table>\n",
       "</div>"
      ],
      "text/plain": [
       "           mins_diff\n",
       "day                 \n",
       "Saturday   13.687790\n",
       "Sunday     13.826838\n",
       "Monday     11.127089\n",
       "Tuesday    10.389693\n",
       "Wednesday  10.590824\n",
       "Thursday   10.816225\n",
       "Friday     10.867305"
      ]
     },
     "execution_count": 26,
     "metadata": {},
     "output_type": "execute_result"
    }
   ],
   "source": [
    "group_means = df1[['day', 'mins_diff']].groupby(['day']).mean()\n",
    "group_order = group_means.sort_values(['mins_diff'], ascending = False).index\n",
    "group_means"
   ]
  },
  {
   "cell_type": "code",
   "execution_count": 27,
   "metadata": {
    "colab": {
     "base_uri": "https://localhost:8080/",
     "height": 657
    },
    "id": "YngdXen-Z4xK",
    "outputId": "340ee9f7-742b-4d88-b06f-d32dcb5fd758"
   },
   "outputs": [
    {
     "data": {
      "image/png": "[encoded data removed]",
      "text/plain": [
       "<Figure size 648x648 with 7 Axes>"
      ]
     },
     "metadata": {
      "needs_background": "light"
     },
     "output_type": "display_data"
    }
   ],
   "source": [
    "bins= np.arange(0, df1['mins_diff'].max()+3, 3)\n",
    "g = sb.FacetGrid(data = df1, col = 'day',col_wrap=3,  col_order = group_order)\n",
    "g.map(plt.hist, \"mins_diff\", bins= bins);\n",
    "plt.xlim(0,20);"
   ]
  },
  {
   "cell_type": "code",
   "execution_count": 28,
   "metadata": {
    "colab": {
     "base_uri": "https://localhost:8080/",
     "height": 294
    },
    "id": "wboUd04GCe3k",
    "outputId": "5ff02d2d-64bb-49d1-e116-ba2f194759cc"
   },
   "outputs": [
    {
     "data": {
      "image/png": "[encoded data removed]",
      "text/plain": [
       "<Figure size 432x288 with 1 Axes>"
      ]
     },
     "metadata": {
      "needs_background": "light"
     },
     "output_type": "display_data"
    }
   ],
   "source": [
    "sb.barplot(data=df1, x='day', y='mins_diff', color=base_color);\n",
    "plt.xticks(rotation=15);"
   ]
  },
  {
   "cell_type": "markdown",
   "metadata": {
    "id": "3TfNZVoi-OEx"
   },
   "source": [
    ">\"Sunday\" is the day with the highest average of trip duration in minutes, followed by \"Saturday\", then \"Monday\". The rest of week days are so close in average durations"
   ]
  },
  {
   "cell_type": "markdown",
   "metadata": {
    "id": "oD-LyOJ8MeC3"
   },
   "source": [
    "#### 4. **Relationship between members' gender and trip duration**"
   ]
  },
  {
   "cell_type": "code",
   "execution_count": 29,
   "metadata": {
    "colab": {
     "base_uri": "https://localhost:8080/",
     "height": 280
    },
    "id": "bHWqQ9NEZ4u2",
    "outputId": "aa714812-0138-475e-8921-e0b6b6bd07eb"
   },
   "outputs": [
    {
     "data": {
      "image/png": "[encoded data removed]",
      "text/plain": [
       "<Figure size 432x288 with 1 Axes>"
      ]
     },
     "metadata": {
      "needs_background": "light"
     },
     "output_type": "display_data"
    }
   ],
   "source": [
    "sb.barplot(data=df1, x='member_gender', y='mins_diff', color=base_color);"
   ]
  },
  {
   "cell_type": "markdown",
   "metadata": {
    "id": "KYZHHr4ThDr2"
   },
   "source": [
    "> \"Other\" gender seems to spend the highest average of time duration in riding bikes, followed by females, then males."
   ]
  },
  {
   "cell_type": "markdown",
   "metadata": {
    "id": "ZEl9K_5zhfl5"
   },
   "source": [
    "#### 5. **Relationship between members' ages and trip duration**"
   ]
  },
  {
   "cell_type": "code",
   "execution_count": 30,
   "metadata": {
    "colab": {
     "base_uri": "https://localhost:8080/",
     "height": 0
    },
    "id": "tC3z0ahaZ4sP",
    "outputId": "6650d0ea-7f6a-4ec2-af58-48255705dbdf"
   },
   "outputs": [
    {
     "data": {
      "image/png": "[encoded data removed]",
      "text/plain": [
       "<Figure size 432x288 with 1 Axes>"
      ]
     },
     "metadata": {
      "needs_background": "light"
     },
     "output_type": "display_data"
    }
   ],
   "source": [
    "sb.regplot(data = df1, x = 'member_age', y = 'mins_diff', truncate=False, x_jitter=0.7,scatter_kws={'alpha':1/5});\n",
    "plt.ylim(0,400);"
   ]
  },
  {
   "cell_type": "markdown",
   "metadata": {
    "id": "yJdf0e0franA"
   },
   "source": [
    ">We can observe here that most users of different ages ride less than 150 minutes,  but most of those few high duration points are mostly observed in ages less than 60."
   ]
  },
  {
   "cell_type": "markdown",
   "metadata": {
    "id": "oxzFDXNGl66n"
   },
   "source": [
    "* Using Heat map"
   ]
  },
  {
   "cell_type": "code",
   "execution_count": 31,
   "metadata": {
    "colab": {
     "base_uri": "https://localhost:8080/"
    },
    "id": "09f-W217lkXh",
    "outputId": "91622598-c7e6-4f4c-b54f-9d6a6ba96a6c"
   },
   "outputs": [
    {
     "data": {
      "text/plain": [
       "(count    175075.000000\n",
       " mean         11.245295\n",
       " std          27.366512\n",
       " min           1.000000\n",
       " 25%           5.000000\n",
       " 50%           8.000000\n",
       " 75%          13.000000\n",
       " max        1409.000000\n",
       " Name: mins_diff, dtype: float64,\n",
       " count    175075.000000\n",
       " mean         34.158778\n",
       " std           9.972079\n",
       " min          18.000000\n",
       " 25%          27.000000\n",
       " 50%          32.000000\n",
       " 75%          39.000000\n",
       " max          99.000000\n",
       " Name: member_age, dtype: float64)"
      ]
     },
     "execution_count": 31,
     "metadata": {},
     "output_type": "execute_result"
    }
   ],
   "source": [
    "df1['mins_diff'].describe(), df1['member_age'].describe()"
   ]
  },
  {
   "cell_type": "code",
   "execution_count": 32,
   "metadata": {
    "colab": {
     "base_uri": "https://localhost:8080/",
     "height": 0
    },
    "id": "m6v8psvtmFmU",
    "outputId": "7bc0b51c-0c38-4935-d6c6-e9f2e89f590e"
   },
   "outputs": [
    {
     "data": {
      "image/png": "[encoded data removed]",
      "text/plain": [
       "<Figure size 432x288 with 2 Axes>"
      ]
     },
     "metadata": {
      "needs_background": "light"
     },
     "output_type": "display_data"
    }
   ],
   "source": [
    "bins_x= np.arange(18,99+10, 10 )\n",
    "bins_y= np.arange(1, 1409+100, 100)\n",
    "\n",
    "h2d= plt.hist2d(data= df1, x= 'member_age', y ='mins_diff', cmap='viridis_r', cmin=0.5, bins = [bins_x, bins_y]);\n",
    "plt.colorbar();\n",
    "plt.xlabel('Member Age')\n",
    "plt.ylabel('Duration in minutes');"
   ]
  },
  {
   "cell_type": "markdown",
   "metadata": {
    "id": "8VKhsFA6rBGR"
   },
   "source": [
    "> We can observe from both the scatter plot and heat map that most frequent bike riders are aged between 20 and 60. And that Higher durations are mostly observed with younger members."
   ]
  },
  {
   "cell_type": "markdown",
   "metadata": {
    "id": "OasABfpPNit-"
   },
   "source": [
    "### Talk about some of the relationships you observed in this part of the investigation. How did the feature(s) of interest vary with other features in the dataset?\n",
    " \n",
    "* after seeing the relationship between user type and trip durations customers occupy higher duration than subscribers.\n",
    "\n",
    "* Back to the relationship between members' gender and trip duration, females spend more time riding bikes than males, with the \"Other\" gender recording the hieghst average riding time.\n",
    "\n",
    "* Back to the relationship between members' age and trip duration, most frequent bike riders are aged between 20 and 60. And Higher durations are mostly observed with younger members.\n",
    "\n",
    "### Did you observe any interesting relationships between the other features (not the main feature(s) of interest)?\n",
    "* Yes, I analyzed the relationship between durations of trips and weekdays, and came up with a conclusion that \"Sunday\" is the day with the highest average of trip duration , followed by \"Saturday\", then \"Monday\".\n",
    "\n",
    "* I also analyzed the relationship between user type and weekdays, and concluded that subscribers are much more than customers, with \"Thursday\" being the most frequent day of reserving rides for both types, followed by \"Friday\" for customers, and \"Tuesday\" for subscribers."
   ]
  },
  {
   "cell_type": "markdown",
   "metadata": {
    "id": "EdXyAiq6Nit_"
   },
   "source": [
    "## Multivariate Exploration"
   ]
  },
  {
   "cell_type": "markdown",
   "metadata": {
    "id": "7rPkwTlwHAA9"
   },
   "source": [
    "#### 1. **Relationship between member age , gender and trip duration**"
   ]
  },
  {
   "cell_type": "code",
   "execution_count": 33,
   "metadata": {
    "colab": {
     "base_uri": "https://localhost:8080/",
     "height": 422
    },
    "id": "mtHBrO4MNit_",
    "outputId": "185a116d-8903-4923-955a-0fc262ae32de"
   },
   "outputs": [
    {
     "name": "stderr",
     "output_type": "stream",
     "text": [
      "F:\\Programs\\Anaconda\\lib\\site-packages\\seaborn\\axisgrid.py:316: UserWarning: The `size` parameter has been renamed to `height`; please update your code.\n",
      "  warnings.warn(msg, UserWarning)\n"
     ]
    },
    {
     "data": {
      "image/png": "[encoded data removed]",
      "text/plain": [
       "<Figure size 450.375x360 with 1 Axes>"
      ]
     },
     "metadata": {
      "needs_background": "light"
     },
     "output_type": "display_data"
    }
   ],
   "source": [
    "g =sb.FacetGrid(data =df1,hue = 'member_gender',size = 5);\n",
    "g.map(sb.regplot,'member_age','mins_diff',  x_jitter= 0.3, fit_reg= False);\n",
    "g.add_legend();"
   ]
  },
  {
   "cell_type": "markdown",
   "metadata": {
    "id": "4JE9e5iVP_Me"
   },
   "source": [
    "> We can tell that higher durations are occupied by ages mostly less than 60 . And females are most probably the most frequent gender to spend up to 200 minutes riding bikes; but that is still not clear enough due to the overplotting."
   ]
  },
  {
   "cell_type": "markdown",
   "metadata": {
    "id": "4dyEYLMlT6F8"
   },
   "source": [
    "* **Trying Faceting method**"
   ]
  },
  {
   "cell_type": "code",
   "execution_count": 34,
   "metadata": {
    "colab": {
     "base_uri": "https://localhost:8080/",
     "height": 350
    },
    "id": "1EGMJcEhT6rt",
    "outputId": "077b06ae-24b3-4b9f-82b2-fef7af5cc68a"
   },
   "outputs": [
    {
     "name": "stderr",
     "output_type": "stream",
     "text": [
      "F:\\Programs\\Anaconda\\lib\\site-packages\\seaborn\\axisgrid.py:316: UserWarning: The `size` parameter has been renamed to `height`; please update your code.\n",
      "  warnings.warn(msg, UserWarning)\n"
     ]
    },
    {
     "data": {
      "image/png": "[encoded data removed]",
      "text/plain": [
       "<Figure size 864x288 with 3 Axes>"
      ]
     },
     "metadata": {
      "needs_background": "light"
     },
     "output_type": "display_data"
    }
   ],
   "source": [
    "g = sb.FacetGrid(data = df1, col = 'member_gender', size = 4);\n",
    "g.map(plt.scatter, 'member_age', 'mins_diff');"
   ]
  },
  {
   "cell_type": "markdown",
   "metadata": {
    "id": "Yus64U-7U8g1"
   },
   "source": [
    ">We can conclude that \"**Other**\" gender is considered the **lowest aged** riding bikes gender , followed by **Females** then **Males**.\n",
    "\n",
    ">There's no really obvious effect on duration based on gender. It may only be that there are **more data points of males of ages less than 50, that were observed to have spent high durations of time**.."
   ]
  },
  {
   "cell_type": "markdown",
   "metadata": {
    "id": "gzESzzarYglO"
   },
   "source": [
    "#### 2. **Relationship between user type, gender and weekday usage.**"
   ]
  },
  {
   "cell_type": "code",
   "execution_count": 35,
   "metadata": {
    "colab": {
     "base_uri": "https://localhost:8080/",
     "height": 420
    },
    "id": "YlTkh0IDYqaW",
    "outputId": "75f4ae53-ff68-4f17-f698-7751842a85f8"
   },
   "outputs": [
    {
     "data": {
      "image/png": "[encoded data removed]",
      "text/plain": [
       "<Figure size 810.375x360 with 2 Axes>"
      ]
     },
     "metadata": {
      "needs_background": "light"
     },
     "output_type": "display_data"
    }
   ],
   "source": [
    "g = sb.catplot(data=df1, x='day', col=\"user_type\",hue='member_gender', sharey = False, kind='count', order = order)\n",
    "plt.xticks(rotation=15);\n",
    "g.set_axis_labels(\"day\", \"Counts of trips\")\n",
    "g.fig.suptitle('Weekday Usage based on User Type and gender', y=1.03, fontsize=14);"
   ]
  },
  {
   "cell_type": "markdown",
   "metadata": {
    "id": "caHJT86fytmV"
   },
   "source": [
    ">We can clearly observe that generally, subscribers are much more than customers, and males are making more bike trips than females and others; as a nature result of the higher number of males and subscribers in the program.\n",
    "\n",
    "> The trend between customers and subscribers of each gender is a bit similar. \n",
    "\n",
    ">\"**Thursday**\" is still **the most frequent day of reserving rides for both types**, followed by **\"Friday\" for customers**, and **\"Tuesday\" for subscribers**. \n",
    "\n",
    ">We can also notice that unlike subscribers, **customers** of all genders **use the service on \"Saturdays\" and \"Sundays\" more often** compared to their use of it on rest of the days. **Subscribers scarcely use it on these days**..\n"
   ]
  },
  {
   "cell_type": "markdown",
   "metadata": {
    "id": "HIjzzfZbNit_"
   },
   "source": [
    "### Talk about some of the relationships you observed in this part of the investigation. Were there features that strengthened each other in terms of looking at your feature(s) of interest?\n",
    "\n",
    "The main features we discovered in this part were: **trip duration**, **member gender**, **member age** and **user type**.\n",
    "\n",
    ">The multivariate charts reinforced the earlier relationships that were observed; **Thursday** is the **most frequent day of reserving rides for both types**, followed by **\"Friday\" for customers**, and **\"Tuesday\" for subscribers**. This was **not influenced by gender**.\n",
    "\n",
    ">\"**Other**\" gender is considered the **lowest aged** riding bikes gender , followed by **Females** then **Males**. There's no obvious effect on duration based on gender, except that there are **a bit more data points of males of ages less than 50, that were observed to have spent high durations of time**..\n",
    "\n",
    "\n",
    "### Were there any interesting or surprising interactions between features?\n",
    "\n",
    "> Yes, we observed that some of the heighst durations is of users at age of about 60 years old."
   ]
  },
  {
   "cell_type": "markdown",
   "metadata": {
    "id": "MPUmGtk3l-pb"
   },
   "source": [
    "### In Conclusion,  regarding our features of interest(**user_type, average trip duration**):\n",
    "\n",
    ">* The majority of rides do not exceed 20 mins; with **average time duration of 11.49 minutes**. With the **increasement** of trip **durations**, **number of riders** tends to **decrease**.\n",
    "\n",
    ">* **most users are subscribers** ,They both prefer using the Bikeshare on **Thursdays**, followed by **\"Friday\" for customers**, and **\"Tuesday\" for subscribers**.\n",
    "\n",
    ">* **customers take longer ride duarations** than subscribers.\n",
    "\n",
    ">* **higher durations** are occupied by ages mostly **less than 60** .\n",
    "\n",
    ">* gender almost has no effect on the data compared to age and user_type, except that **number of males** is generally **higher** than females and others.."
   ]
  },
  {
   "cell_type": "code",
   "execution_count": null,
   "metadata": {},
   "outputs": [],
   "source": []
  }
 ],
 "metadata": {
  "colab": {
   "name": "exploration_template.ipynb",
   "provenance": []
  },
  "kernelspec": {
   "display_name": "Python 3",
   "language": "python",
   "name": "python3"
  },
  "language_info": {
   "codemirror_mode": {
    "name": "ipython",
    "version": 3
   },
   "file_extension": ".py",
   "mimetype": "text/x-python",
   "name": "python",
   "nbconvert_exporter": "python",
   "pygments_lexer": "ipython3",
   "version": "3.7.4"
  }
 },
 "nbformat": 4,
 "nbformat_minor": 1
}
